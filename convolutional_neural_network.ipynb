{
  "cells": [
    {
      "cell_type": "markdown",
      "metadata": {
        "colab_type": "text",
        "id": "3DR-eO17geWu"
      },
      "source": [
        "# Convolutional Neural Network"
      ]
    },
    {
      "cell_type": "markdown",
      "metadata": {
        "colab_type": "text",
        "id": "EMefrVPCg-60"
      },
      "source": [
        "### Importing the libraries"
      ]
    },
    {
      "cell_type": "code",
      "execution_count": 1,
      "metadata": {},
      "outputs": [],
      "source": [
        "import tensorflow as tf \n",
        "from keras.preprocessing import image"
      ]
    },
    {
      "cell_type": "code",
      "execution_count": 2,
      "metadata": {},
      "outputs": [
        {
          "data": {
            "text/plain": [
              "'2.13.0'"
            ]
          },
          "execution_count": 2,
          "metadata": {},
          "output_type": "execute_result"
        }
      ],
      "source": [
        "tf.__version__"
      ]
    },
    {
      "cell_type": "markdown",
      "metadata": {
        "colab_type": "text",
        "id": "oxQxCBWyoGPE"
      },
      "source": [
        "## Part 1 - Data Preprocessing"
      ]
    },
    {
      "cell_type": "markdown",
      "metadata": {
        "colab_type": "text",
        "id": "MvE-heJNo3GG"
      },
      "source": [
        "### Preprocessing the Training set"
      ]
    },
    {
      "cell_type": "code",
      "execution_count": 3,
      "metadata": {},
      "outputs": [
        {
          "name": "stdout",
          "output_type": "stream",
          "text": [
            "Found 8000 images belonging to 2 classes.\n"
          ]
        }
      ],
      "source": [
        "# For avoiding over Fitting\n",
        "train_datagen = image.ImageDataGenerator(rescale=1./255, \n",
        "                                         shear_range=0.2,  \n",
        "                                         zoom_range=0.2, \n",
        "                                         horizontal_flip=True)\n",
        "\n",
        "training_set = train_datagen.flow_from_directory(directory= 'dataset\\\\training_set', \n",
        "                                                 target_size=(64, 64), \n",
        "                                                 class_mode=\"binary\", \n",
        "                                                 batch_size= 32)"
      ]
    },
    {
      "cell_type": "markdown",
      "metadata": {
        "colab_type": "text",
        "id": "mrCMmGw9pHys"
      },
      "source": [
        "### Preprocessing the Test set"
      ]
    },
    {
      "cell_type": "code",
      "execution_count": 4,
      "metadata": {},
      "outputs": [
        {
          "name": "stdout",
          "output_type": "stream",
          "text": [
            "Found 8000 images belonging to 2 classes.\n"
          ]
        }
      ],
      "source": [
        "test_datagen = image.ImageDataGenerator(rescale=1./255)\n",
        "\n",
        "test_set = train_datagen.flow_from_directory(directory= 'dataset\\\\training_set', \n",
        "                                                 target_size=(64, 64), \n",
        "                                                 class_mode=\"binary\", \n",
        "                                                 batch_size= 32)"
      ]
    },
    {
      "cell_type": "markdown",
      "metadata": {
        "colab_type": "text",
        "id": "af8O4l90gk7B"
      },
      "source": [
        "## Part 2 - Building the CNN"
      ]
    },
    {
      "cell_type": "markdown",
      "metadata": {
        "colab_type": "text",
        "id": "ces1gXY2lmoX"
      },
      "source": [
        "### Initialising the CNN"
      ]
    },
    {
      "cell_type": "code",
      "execution_count": 5,
      "metadata": {},
      "outputs": [],
      "source": [
        "cnn = tf.keras.Sequential()"
      ]
    },
    {
      "cell_type": "markdown",
      "metadata": {
        "colab_type": "text",
        "id": "u5YJj_XMl5LF"
      },
      "source": [
        "### Step 1 - Convolution"
      ]
    },
    {
      "cell_type": "code",
      "execution_count": 6,
      "metadata": {},
      "outputs": [],
      "source": [
        "import keras.layers as kl \n",
        "cnn.add(kl.Conv2D(filters= 32, kernel_size=3, input_shape= [64, 64, 3], activation= \"relu\"))"
      ]
    },
    {
      "cell_type": "markdown",
      "metadata": {
        "colab_type": "text",
        "id": "tf87FpvxmNOJ"
      },
      "source": [
        "### Step 2 - Pooling"
      ]
    },
    {
      "cell_type": "code",
      "execution_count": 7,
      "metadata": {},
      "outputs": [],
      "source": [
        "cnn.add(kl.MaxPool2D(pool_size= (2, 2), strides= 2))"
      ]
    },
    {
      "cell_type": "markdown",
      "metadata": {
        "colab_type": "text",
        "id": "xaTOgD8rm4mU"
      },
      "source": [
        "### Adding a second convolutional layer"
      ]
    },
    {
      "cell_type": "code",
      "execution_count": 8,
      "metadata": {},
      "outputs": [],
      "source": [
        "cnn.add(kl.Conv2D(filters= 32, kernel_size=3, activation= \"relu\"))\n",
        "cnn.add(kl.MaxPool2D(pool_size= (2, 2), strides= 2))"
      ]
    },
    {
      "cell_type": "markdown",
      "metadata": {
        "colab_type": "text",
        "id": "tmiEuvTunKfk"
      },
      "source": [
        "### Step 3 - Flattening"
      ]
    },
    {
      "cell_type": "code",
      "execution_count": 9,
      "metadata": {},
      "outputs": [],
      "source": [
        "cnn.add(kl.Flatten())"
      ]
    },
    {
      "cell_type": "markdown",
      "metadata": {
        "colab_type": "text",
        "id": "dAoSECOm203v"
      },
      "source": [
        "### Step 4 - Full Connection"
      ]
    },
    {
      "cell_type": "code",
      "execution_count": 10,
      "metadata": {},
      "outputs": [],
      "source": [
        "cnn.add(kl.Dense(units = 128, activation=\"relu\"))"
      ]
    },
    {
      "cell_type": "markdown",
      "metadata": {
        "colab_type": "text",
        "id": "yTldFvbX28Na"
      },
      "source": [
        "### Step 5 - Output Layer"
      ]
    },
    {
      "cell_type": "code",
      "execution_count": 11,
      "metadata": {},
      "outputs": [],
      "source": [
        "cnn.add(kl.Dense(units = 1, activation=\"sigmoid\"))"
      ]
    },
    {
      "cell_type": "markdown",
      "metadata": {
        "colab_type": "text",
        "id": "D6XkI90snSDl"
      },
      "source": [
        "## Part 3 - Training the CNN"
      ]
    },
    {
      "cell_type": "markdown",
      "metadata": {
        "colab_type": "text",
        "id": "vfrFQACEnc6i"
      },
      "source": [
        "### Compiling the CNN"
      ]
    },
    {
      "cell_type": "code",
      "execution_count": 12,
      "metadata": {},
      "outputs": [],
      "source": [
        "cnn.compile(optimizer= \"adam\", loss= \"binary_crossentropy\", metrics=[\"accuracy\"])"
      ]
    },
    {
      "cell_type": "markdown",
      "metadata": {
        "colab_type": "text",
        "id": "ehS-v3MIpX2h"
      },
      "source": [
        "### Training the CNN on the Training set and evaluating it on the Test set"
      ]
    },
    {
      "cell_type": "code",
      "execution_count": 13,
      "metadata": {},
      "outputs": [
        {
          "name": "stdout",
          "output_type": "stream",
          "text": [
            "Epoch 1/25\n",
            "250/250 [==============================] - 245s 969ms/step - loss: 0.6687 - accuracy: 0.5850 - val_loss: 0.6447 - val_accuracy: 0.6185\n",
            "Epoch 2/25\n",
            "250/250 [==============================] - 78s 311ms/step - loss: 0.5891 - accuracy: 0.6901 - val_loss: 0.5678 - val_accuracy: 0.7064\n",
            "Epoch 3/25\n",
            "250/250 [==============================] - 71s 285ms/step - loss: 0.5558 - accuracy: 0.7130 - val_loss: 0.5477 - val_accuracy: 0.7204\n",
            "Epoch 4/25\n",
            "250/250 [==============================] - 67s 268ms/step - loss: 0.5332 - accuracy: 0.7279 - val_loss: 0.5039 - val_accuracy: 0.7574\n",
            "Epoch 5/25\n",
            "250/250 [==============================] - 68s 274ms/step - loss: 0.5136 - accuracy: 0.7456 - val_loss: 0.4862 - val_accuracy: 0.7649\n",
            "Epoch 6/25\n",
            "250/250 [==============================] - 69s 277ms/step - loss: 0.4902 - accuracy: 0.7634 - val_loss: 0.4822 - val_accuracy: 0.7640\n",
            "Epoch 7/25\n",
            "250/250 [==============================] - 70s 278ms/step - loss: 0.4752 - accuracy: 0.7673 - val_loss: 0.4662 - val_accuracy: 0.7710\n",
            "Epoch 8/25\n",
            "250/250 [==============================] - 95s 381ms/step - loss: 0.4585 - accuracy: 0.7855 - val_loss: 0.4374 - val_accuracy: 0.8002\n",
            "Epoch 9/25\n",
            "250/250 [==============================] - 73s 291ms/step - loss: 0.4447 - accuracy: 0.7943 - val_loss: 0.4334 - val_accuracy: 0.8000\n",
            "Epoch 10/25\n",
            "250/250 [==============================] - 71s 284ms/step - loss: 0.4409 - accuracy: 0.7937 - val_loss: 0.4159 - val_accuracy: 0.8125\n",
            "Epoch 11/25\n",
            "250/250 [==============================] - 72s 288ms/step - loss: 0.4221 - accuracy: 0.8052 - val_loss: 0.4165 - val_accuracy: 0.8124\n",
            "Epoch 12/25\n",
            "250/250 [==============================] - 71s 282ms/step - loss: 0.4123 - accuracy: 0.8112 - val_loss: 0.3876 - val_accuracy: 0.8274\n",
            "Epoch 13/25\n",
            "250/250 [==============================] - 70s 280ms/step - loss: 0.4015 - accuracy: 0.8174 - val_loss: 0.3835 - val_accuracy: 0.8260\n",
            "Epoch 14/25\n",
            "250/250 [==============================] - 67s 268ms/step - loss: 0.3963 - accuracy: 0.8232 - val_loss: 0.3750 - val_accuracy: 0.8317\n",
            "Epoch 15/25\n",
            "250/250 [==============================] - 68s 271ms/step - loss: 0.3911 - accuracy: 0.8202 - val_loss: 0.3576 - val_accuracy: 0.8367\n",
            "Epoch 16/25\n",
            "250/250 [==============================] - 67s 266ms/step - loss: 0.3860 - accuracy: 0.8220 - val_loss: 0.3624 - val_accuracy: 0.8325\n",
            "Epoch 17/25\n",
            "250/250 [==============================] - 68s 270ms/step - loss: 0.3690 - accuracy: 0.8342 - val_loss: 0.3516 - val_accuracy: 0.8456\n",
            "Epoch 18/25\n",
            "250/250 [==============================] - 67s 269ms/step - loss: 0.3634 - accuracy: 0.8366 - val_loss: 0.3430 - val_accuracy: 0.8443\n",
            "Epoch 19/25\n",
            "250/250 [==============================] - 68s 273ms/step - loss: 0.3493 - accuracy: 0.8462 - val_loss: 0.3735 - val_accuracy: 0.8271\n",
            "Epoch 20/25\n",
            "250/250 [==============================] - 68s 272ms/step - loss: 0.3480 - accuracy: 0.8464 - val_loss: 0.3684 - val_accuracy: 0.8315\n",
            "Epoch 21/25\n",
            "250/250 [==============================] - 67s 268ms/step - loss: 0.3433 - accuracy: 0.8464 - val_loss: 0.3099 - val_accuracy: 0.8639\n",
            "Epoch 22/25\n",
            "250/250 [==============================] - 69s 274ms/step - loss: 0.3307 - accuracy: 0.8509 - val_loss: 0.3264 - val_accuracy: 0.8587\n",
            "Epoch 23/25\n",
            "250/250 [==============================] - 67s 266ms/step - loss: 0.3221 - accuracy: 0.8583 - val_loss: 0.3009 - val_accuracy: 0.8709\n",
            "Epoch 24/25\n",
            "250/250 [==============================] - 66s 264ms/step - loss: 0.3260 - accuracy: 0.8537 - val_loss: 0.3251 - val_accuracy: 0.8579\n",
            "Epoch 25/25\n",
            "250/250 [==============================] - 66s 265ms/step - loss: 0.3066 - accuracy: 0.8641 - val_loss: 0.3078 - val_accuracy: 0.8666\n"
          ]
        },
        {
          "data": {
            "text/plain": [
              "<keras.src.callbacks.History at 0x2572803fd60>"
            ]
          },
          "execution_count": 13,
          "metadata": {},
          "output_type": "execute_result"
        }
      ],
      "source": [
        "cnn.fit(x = training_set, validation_data= test_set, epochs = 25)"
      ]
    },
    {
      "cell_type": "markdown",
      "metadata": {
        "colab_type": "text",
        "id": "U3PZasO0006Z"
      },
      "source": [
        "## Part 4 - Making a single prediction"
      ]
    },
    {
      "cell_type": "code",
      "execution_count": 28,
      "metadata": {},
      "outputs": [
        {
          "name": "stdout",
          "output_type": "stream",
          "text": [
            "1/1 [==============================] - 0s 40ms/step\n",
            "Dog\n"
          ]
        }
      ],
      "source": [
        "import numpy as np\n",
        "\n",
        "test_image = image.load_img(\"Directory\", target_size=(64, 64))\n",
        "test_image = image.img_to_array(test_image)\n",
        "test_image = np.expand_dims(test_image, axis = 0)\n",
        "result = cnn.predict(test_image)\n",
        "training_set.class_indices\n",
        "if result[0][0] == 1 : \n",
        "    prediction = \"Dog\"\n",
        "else:\n",
        "    prediction = \"Cat\"\n",
        "print(prediction)"
      ]
    },
    {
      "cell_type": "code",
      "execution_count": null,
      "metadata": {},
      "outputs": [],
      "source": []
    }
  ],
  "metadata": {
    "colab": {
      "collapsed_sections": [],
      "name": "convolutional_neural_network.ipynb",
      "provenance": [],
      "toc_visible": true
    },
    "kernelspec": {
      "display_name": "Python 3.10.5 64-bit",
      "language": "python",
      "name": "python3"
    },
    "language_info": {
      "codemirror_mode": {
        "name": "ipython",
        "version": 3
      },
      "file_extension": ".py",
      "mimetype": "text/x-python",
      "name": "python",
      "nbconvert_exporter": "python",
      "pygments_lexer": "ipython3",
      "version": "3.10.5"
    },
    "vscode": {
      "interpreter": {
        "hash": "8a073728ab4ef87e7ccaa22aa4231cc54a1b724b901df61797a1fe51d7090289"
      }
    }
  },
  "nbformat": 4,
  "nbformat_minor": 0
}
